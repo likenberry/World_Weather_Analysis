{
 "cells": [
  {
   "cell_type": "code",
   "execution_count": 1,
   "id": "b6c16425",
   "metadata": {},
   "outputs": [],
   "source": [
    "# import the random module\n",
    "import random"
   ]
  },
  {
   "cell_type": "code",
   "execution_count": 3,
   "id": "e8248f0f",
   "metadata": {},
   "outputs": [
    {
     "data": {
      "text/plain": [
       "0.006154892618947638"
      ]
     },
     "execution_count": 3,
     "metadata": {},
     "output_type": "execute_result"
    }
   ],
   "source": [
    "# Random.random method returns a random number between 0 and 1\n",
    "random.random()"
   ]
  },
  {
   "cell_type": "code",
   "execution_count": 4,
   "id": "9ae5fe47",
   "metadata": {},
   "outputs": [
    {
     "data": {
      "text/plain": [
       "-33"
      ]
     },
     "execution_count": 4,
     "metadata": {},
     "output_type": "execute_result"
    }
   ],
   "source": [
    "# Random.randint method returns an integer between specified numbers\n",
    "random.randint(-90, 90)"
   ]
  },
  {
   "cell_type": "code",
   "execution_count": 5,
   "id": "c5d12ab4",
   "metadata": {},
   "outputs": [],
   "source": [
    "# Combining random.random and random.randint to get larger floating decimals\n",
    "x = 1\n",
    "latitudes = []\n",
    "while x < 11:\n",
    "    random_lat = random.randint(-90, 89) + random.random()\n",
    "    latitudes.append(random_lat)\n",
    "    x += 1"
   ]
  },
  {
   "cell_type": "code",
   "execution_count": 6,
   "id": "db2f8d28",
   "metadata": {},
   "outputs": [
    {
     "data": {
      "text/plain": [
       "-23"
      ]
     },
     "execution_count": 6,
     "metadata": {},
     "output_type": "execute_result"
    }
   ],
   "source": [
    "# Random.randrange method takes a range of numbers with the option to increment by a step value\n",
    "random.randrange(-90, 90, step=1)"
   ]
  },
  {
   "cell_type": "code",
   "execution_count": 7,
   "id": "40d70424",
   "metadata": {},
   "outputs": [
    {
     "data": {
      "text/plain": [
       "30"
      ]
     },
     "execution_count": 7,
     "metadata": {},
     "output_type": "execute_result"
    }
   ],
   "source": [
    "# Changing the step increment to 3, 1 is a default step value\n",
    "random.randrange(-90, 90, step=3)"
   ]
  },
  {
   "cell_type": "code",
   "execution_count": 8,
   "id": "5a01a373",
   "metadata": {},
   "outputs": [
    {
     "data": {
      "text/plain": [
       "-50.66163616366906"
      ]
     },
     "execution_count": 8,
     "metadata": {},
     "output_type": "execute_result"
    }
   ],
   "source": [
    "# Random.uniform method takes two numbers and returns floating decimal between them\n",
    "random.uniform(-90, 90)"
   ]
  },
  {
   "cell_type": "code",
   "execution_count": 9,
   "id": "8866493e",
   "metadata": {},
   "outputs": [],
   "source": [
    "# Import NumPy module.\n",
    "import numpy as np"
   ]
  },
  {
   "cell_type": "code",
   "execution_count": 10,
   "id": "2fcc021b",
   "metadata": {},
   "outputs": [
    {
     "data": {
      "text/plain": [
       "-67.6577163117388"
      ]
     },
     "execution_count": 10,
     "metadata": {},
     "output_type": "execute_result"
    }
   ],
   "source": [
    "# Working to generate a random list of lats/longs\n",
    "np.random.uniform(-90.000, 90.000)"
   ]
  },
  {
   "cell_type": "code",
   "execution_count": 11,
   "id": "50bfa7c3",
   "metadata": {},
   "outputs": [
    {
     "data": {
      "text/plain": [
       "88.87457023016589"
      ]
     },
     "execution_count": 11,
     "metadata": {},
     "output_type": "execute_result"
    }
   ],
   "source": [
    "# Can also be written in this format\n",
    "np.random.uniform(low=-90, high=90)"
   ]
  },
  {
   "cell_type": "code",
   "execution_count": 12,
   "id": "2e390802",
   "metadata": {},
   "outputs": [
    {
     "data": {
      "text/plain": [
       "array([-62.49835395,  55.23105542, -38.37987682, -59.62564737,\n",
       "        43.02990927,  49.04167546,  46.51053837,  49.98389875,\n",
       "        17.78108591, -62.51210495,  47.18248469,  76.79812173,\n",
       "       -64.70940938, -11.57405235,  58.81592878, -69.69183331,\n",
       "        56.31483554,  66.56352193,  21.40383018,  78.12777406,\n",
       "       -56.61583695, -67.3640608 ,  30.28092208, -72.90796041,\n",
       "        23.64081518, -27.34624594, -61.14974517,  18.70793512,\n",
       "        -0.76544634,  -9.50875849,  54.38649505, -16.02745024,\n",
       "         7.19611227, -87.15501231,  11.73486267,  -7.75610577,\n",
       "         6.72296215, -17.3604216 ,  77.43200503,  23.24249773,\n",
       "        70.47812703,  61.65682887,  72.75771874, -71.80188816,\n",
       "        39.68626261,  50.15373945, -73.86123549,  68.64571498,\n",
       "        59.47185237, -75.45397137])"
      ]
     },
     "execution_count": 12,
     "metadata": {},
     "output_type": "execute_result"
    }
   ],
   "source": [
    "# Adding size parameter allows to the number of results returned to be determined.\n",
    "np.random.uniform(-90.000, 90.000, size=50)"
   ]
  },
  {
   "cell_type": "code",
   "execution_count": 13,
   "id": "826cff84",
   "metadata": {},
   "outputs": [],
   "source": [
    "# Import timeit.\n",
    "import timeit\n",
    "# This is a dependencies that times how long it takes code to run (timer)"
   ]
  },
  {
   "cell_type": "code",
   "execution_count": 14,
   "id": "a92a1578",
   "metadata": {},
   "outputs": [
    {
     "name": "stdout",
     "output_type": "stream",
     "text": [
      "17.6 µs ± 424 ns per loop (mean ± std. dev. of 7 runs, 100000 loops each)\n"
     ]
    }
   ],
   "source": [
    "# %timeit is a magic command\n",
    "# Testing the faster way to generate the random number list of 1500\n",
    "# This is the faster way to generate a lot of random numbers\n",
    "%timeit np.random.uniform(-90.000, 90.000, size=1500)"
   ]
  },
  {
   "cell_type": "code",
   "execution_count": 15,
   "id": "26e8e557",
   "metadata": {},
   "outputs": [
    {
     "name": "stdout",
     "output_type": "stream",
     "text": [
      "2.43 ms ± 72.7 µs per loop (mean ± std. dev. of 7 runs, 100 loops each)\n"
     ]
    }
   ],
   "source": [
    "# The second way of generating the list of 1500\n",
    "def latitudes(size):\n",
    "    latitudes = []\n",
    "    x = 0\n",
    "    while x < (size):\n",
    "        random_lat = random.randint(-90, 90) + random.random()\n",
    "        latitudes.append(random_lat)\n",
    "        x += 1\n",
    "    return latitudes\n",
    "# Call the function with 1500.\n",
    "%timeit latitudes(1500)"
   ]
  },
  {
   "cell_type": "code",
   "execution_count": 18,
   "id": "33b24929",
   "metadata": {},
   "outputs": [
    {
     "name": "stdout",
     "output_type": "stream",
     "text": [
      "2.47 ms ± 82.5 µs per loop (mean ± std. dev. of 7 runs, 100 loops each)\n"
     ]
    }
   ],
   "source": [
    "# Skill Drill to create list of 1500\n",
    "def latitudes(size):\n",
    "    latitudes = []\n",
    "    x = 0\n",
    "    while x < (size):\n",
    "        random_lat = random.randint(-90, 90) + random.random()\n",
    "        latitudes.append(random_lat)\n",
    "        x += 1\n",
    "    return latitudes\n",
    "# Call the function with 1500.\n",
    "%timeit latitudes(1500)"
   ]
  },
  {
   "cell_type": "code",
   "execution_count": null,
   "id": "74b176ca",
   "metadata": {},
   "outputs": [],
   "source": []
  }
 ],
 "metadata": {
  "kernelspec": {
   "display_name": "Python 3",
   "language": "python",
   "name": "python3"
  },
  "language_info": {
   "codemirror_mode": {
    "name": "ipython",
    "version": 3
   },
   "file_extension": ".py",
   "mimetype": "text/x-python",
   "name": "python",
   "nbconvert_exporter": "python",
   "pygments_lexer": "ipython3",
   "version": "3.7.10"
  }
 },
 "nbformat": 4,
 "nbformat_minor": 5
}
